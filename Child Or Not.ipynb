{
 "cells": [
  {
   "cell_type": "code",
   "execution_count": 8,
   "metadata": {},
   "outputs": [],
   "source": [
    "import os\n",
    "import numpy as np\n",
    "import cv2\n",
    "from sklearn.model_selection import train_test_split\n",
    "from keras.models import Sequential\n",
    "from keras.layers import Conv2D, MaxPooling2D, Flatten, Dense, Dropout\n",
    "from keras.utils import to_categorical"
   ]
  },
  {
   "cell_type": "code",
   "execution_count": 2,
   "metadata": {},
   "outputs": [],
   "source": [
    "def load_data(data_dir, target_size=(64, 64)):\n",
    "    images = []\n",
    "    labels = []\n",
    "    for filename in os.listdir(data_dir):\n",
    "        label = int(filename.split('_')[0])  # Assuming file format is label_age.jpg\n",
    "        image = cv2.imread(os.path.join(data_dir, filename))\n",
    "        image = cv2.resize(image, target_size)  # Resize images to target size\n",
    "        images.append(image)\n",
    "        labels.append(label)\n",
    "    return np.array(images), np.array(labels)\n",
    "\n"
   ]
  },
  {
   "cell_type": "code",
   "execution_count": 3,
   "metadata": {},
   "outputs": [],
   "source": [
    "data_dir = \"C:/Age Gender Detection/UTKFace\"\n",
    "images, labels = load_data(data_dir)"
   ]
  },
  {
   "cell_type": "code",
   "execution_count": 9,
   "metadata": {},
   "outputs": [],
   "source": [
    "images = images.astype('float32') / 255.0  # Normalize pixel values to [0, 1]\n",
    "labels = (labels >= 18).astype(int) "
   ]
  },
  {
   "cell_type": "code",
   "execution_count": 10,
   "metadata": {},
   "outputs": [],
   "source": [
    "X_train, X_test, y_train, y_test = train_test_split(images, labels, test_size=0.2, random_state=42)\n"
   ]
  },
  {
   "cell_type": "code",
   "execution_count": 11,
   "metadata": {},
   "outputs": [],
   "source": [
    "model = Sequential()\n",
    "model.add(Conv2D(32, (3, 3), activation='relu', input_shape=(64, 64, 3)))\n",
    "model.add(MaxPooling2D((2, 2)))\n",
    "model.add(Conv2D(64, (3, 3), activation='relu'))\n",
    "model.add(MaxPooling2D((2, 2)))\n",
    "model.add(Conv2D(128, (3, 3), activation='relu'))\n",
    "model.add(MaxPooling2D((2, 2)))\n",
    "model.add(Flatten())\n",
    "model.add(Dense(128, activation='relu'))\n",
    "model.add(Dropout(0.5))\n",
    "model.add(Dense(1, activation='sigmoid'))  # Output layer with a single unit for binary classification\n"
   ]
  },
  {
   "cell_type": "code",
   "execution_count": 12,
   "metadata": {},
   "outputs": [],
   "source": [
    "model.compile(optimizer='adam', loss='binary_crossentropy', metrics=['accuracy'])\n"
   ]
  },
  {
   "cell_type": "code",
   "execution_count": 13,
   "metadata": {},
   "outputs": [
    {
     "name": "stdout",
     "output_type": "stream",
     "text": [
      "Epoch 1/10\n",
      "633/633 [==============================] - 150s 231ms/step - loss: 0.3063 - accuracy: 0.8824 - val_loss: 0.2626 - val_accuracy: 0.9081\n",
      "Epoch 2/10\n",
      "633/633 [==============================] - 126s 200ms/step - loss: 0.2084 - accuracy: 0.9324 - val_loss: 0.2117 - val_accuracy: 0.9218\n",
      "Epoch 3/10\n",
      "633/633 [==============================] - 138s 218ms/step - loss: 0.1765 - accuracy: 0.9425 - val_loss: 0.1442 - val_accuracy: 0.9507\n",
      "Epoch 4/10\n",
      "633/633 [==============================] - 135s 213ms/step - loss: 0.1531 - accuracy: 0.9500 - val_loss: 0.1375 - val_accuracy: 0.9544\n",
      "Epoch 5/10\n",
      "633/633 [==============================] - 132s 208ms/step - loss: 0.1377 - accuracy: 0.9561 - val_loss: 0.1291 - val_accuracy: 0.9563\n",
      "Epoch 6/10\n",
      "633/633 [==============================] - 133s 210ms/step - loss: 0.1299 - accuracy: 0.9570 - val_loss: 0.1323 - val_accuracy: 0.9547\n",
      "Epoch 7/10\n",
      "633/633 [==============================] - 131s 207ms/step - loss: 0.1143 - accuracy: 0.9628 - val_loss: 0.1274 - val_accuracy: 0.9597\n",
      "Epoch 8/10\n",
      "633/633 [==============================] - 134s 211ms/step - loss: 0.1010 - accuracy: 0.9667 - val_loss: 0.1429 - val_accuracy: 0.9517\n",
      "Epoch 9/10\n",
      "633/633 [==============================] - 139s 220ms/step - loss: 0.0907 - accuracy: 0.9692 - val_loss: 0.1164 - val_accuracy: 0.9606\n",
      "Epoch 10/10\n",
      "633/633 [==============================] - 154s 244ms/step - loss: 0.0804 - accuracy: 0.9731 - val_loss: 0.1702 - val_accuracy: 0.9559\n"
     ]
    },
    {
     "data": {
      "text/plain": [
       "<keras.callbacks.History at 0x294afefaf08>"
      ]
     },
     "execution_count": 13,
     "metadata": {},
     "output_type": "execute_result"
    }
   ],
   "source": [
    "model.fit(X_train, y_train, epochs=10, batch_size=30, validation_data=(X_test, y_test))"
   ]
  },
  {
   "cell_type": "code",
   "execution_count": 14,
   "metadata": {},
   "outputs": [
    {
     "name": "stdout",
     "output_type": "stream",
     "text": [
      "149/149 [==============================] - 8s 53ms/step - loss: 0.1702 - accuracy: 0.9559\n",
      "Test Accuracy: 95.59%\n"
     ]
    }
   ],
   "source": [
    "loss, accuracy = model.evaluate(X_test, y_test)\n",
    "print(f'Test Accuracy: {accuracy * 100:.2f}%')"
   ]
  },
  {
   "cell_type": "code",
   "execution_count": 15,
   "metadata": {},
   "outputs": [],
   "source": [
    "model.save('child_classifier_model.h5')"
   ]
  },
  {
   "cell_type": "code",
   "execution_count": 17,
   "metadata": {},
   "outputs": [],
   "source": [
    "# Save model to the specified directory\n",
    "model.save('C:/Age Gender Detection/child_classifier_model.h5')\n"
   ]
  },
  {
   "cell_type": "code",
   "execution_count": null,
   "metadata": {},
   "outputs": [],
   "source": []
  },
  {
   "cell_type": "code",
   "execution_count": 16,
   "metadata": {},
   "outputs": [
    {
     "name": "stdout",
     "output_type": "stream",
     "text": [
      "Current working directory: c:\\Users\\user\\AppData\\Local\\Programs\\Microsoft VS Code\n"
     ]
    }
   ],
   "source": [
    "import os\n",
    "print(\"Current working directory:\", os.getcwd())"
   ]
  },
  {
   "cell_type": "code",
   "execution_count": null,
   "metadata": {},
   "outputs": [],
   "source": []
  }
 ],
 "metadata": {
  "kernelspec": {
   "display_name": "Python 3",
   "language": "python",
   "name": "python3"
  },
  "language_info": {
   "codemirror_mode": {
    "name": "ipython",
    "version": 3
   },
   "file_extension": ".py",
   "mimetype": "text/x-python",
   "name": "python",
   "nbconvert_exporter": "python",
   "pygments_lexer": "ipython3",
   "version": "3.7.9"
  }
 },
 "nbformat": 4,
 "nbformat_minor": 2
}
